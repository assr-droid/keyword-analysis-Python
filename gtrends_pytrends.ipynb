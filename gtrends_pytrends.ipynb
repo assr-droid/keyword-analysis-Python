{
 "cells": [
  {
   "cell_type": "code",
   "execution_count": 1,
   "metadata": {},
   "outputs": [
    {
     "name": "stdout",
     "output_type": "stream",
     "text": [
      "Requirement already satisfied: pytrends in c:\\users\\conta\\appdata\\local\\programs\\python\\python311\\lib\\site-packages (4.9.2)\n",
      "Requirement already satisfied: requests>=2.0 in c:\\users\\conta\\appdata\\local\\programs\\python\\python311\\lib\\site-packages (from pytrends) (2.30.0)\n",
      "Requirement already satisfied: pandas>=0.25 in c:\\users\\conta\\appdata\\local\\programs\\python\\python311\\lib\\site-packages (from pytrends) (2.0.2)\n",
      "Requirement already satisfied: lxml in c:\\users\\conta\\appdata\\local\\programs\\python\\python311\\lib\\site-packages (from pytrends) (4.9.2)\n",
      "Requirement already satisfied: python-dateutil>=2.8.2 in c:\\users\\conta\\appdata\\local\\programs\\python\\python311\\lib\\site-packages (from pandas>=0.25->pytrends) (2.8.2)\n",
      "Requirement already satisfied: pytz>=2020.1 in c:\\users\\conta\\appdata\\local\\programs\\python\\python311\\lib\\site-packages (from pandas>=0.25->pytrends) (2023.3)\n",
      "Requirement already satisfied: tzdata>=2022.1 in c:\\users\\conta\\appdata\\local\\programs\\python\\python311\\lib\\site-packages (from pandas>=0.25->pytrends) (2023.3)\n",
      "Requirement already satisfied: numpy>=1.21.0 in c:\\users\\conta\\appdata\\local\\programs\\python\\python311\\lib\\site-packages (from pandas>=0.25->pytrends) (1.24.3)\n",
      "Requirement already satisfied: charset-normalizer<4,>=2 in c:\\users\\conta\\appdata\\local\\programs\\python\\python311\\lib\\site-packages (from requests>=2.0->pytrends) (3.1.0)\n",
      "Requirement already satisfied: idna<4,>=2.5 in c:\\users\\conta\\appdata\\local\\programs\\python\\python311\\lib\\site-packages (from requests>=2.0->pytrends) (3.4)\n",
      "Requirement already satisfied: urllib3<3,>=1.21.1 in c:\\users\\conta\\appdata\\local\\programs\\python\\python311\\lib\\site-packages (from requests>=2.0->pytrends) (2.0.2)\n",
      "Requirement already satisfied: certifi>=2017.4.17 in c:\\users\\conta\\appdata\\local\\programs\\python\\python311\\lib\\site-packages (from requests>=2.0->pytrends) (2023.5.7)\n",
      "Requirement already satisfied: six>=1.5 in c:\\users\\conta\\appdata\\local\\programs\\python\\python311\\lib\\site-packages (from python-dateutil>=2.8.2->pandas>=0.25->pytrends) (1.16.0)\n"
     ]
    }
   ],
   "source": [
    "!pip install pytrends"
   ]
  },
  {
   "cell_type": "code",
   "execution_count": 2,
   "metadata": {},
   "outputs": [],
   "source": [
    "import pandas as pd\n",
    "from pytrends.request import TrendReq\n",
    "import matplotlib.pyplot as plt\n",
    "trending_topics = TrendReq(hl='en-US', tz=360)\n"
   ]
  },
  {
   "cell_type": "code",
   "execution_count": 3,
   "metadata": {},
   "outputs": [],
   "source": [
    "kw_list=[\"Data Science\"]\n",
    "trending_topics.build_payload(kw_list,cat=0, timeframe='today 12-m')\n"
   ]
  },
  {
   "cell_type": "code",
   "execution_count": 13,
   "metadata": {},
   "outputs": [
    {
     "name": "stdout",
     "output_type": "stream",
     "text": [
      "            Data Science  isPartial\n",
      "date                               \n",
      "2023-03-26           100      False\n",
      "2022-09-11            97      False\n",
      "2022-09-18            96      False\n",
      "2022-08-21            95      False\n",
      "2022-09-25            94      False\n",
      "2023-06-11            92      False\n",
      "2022-10-09            91      False\n",
      "2022-08-28            91      False\n",
      "2022-07-31            90      False\n",
      "2022-10-30            89      False\n",
      "2023-01-29            89      False\n",
      "2023-05-21            89      False\n",
      "2022-09-04            89      False\n",
      "2022-08-14            89      False\n",
      "2023-04-30            89      False\n",
      "2022-11-06            88      False\n",
      "2022-07-10            88      False\n",
      "2023-02-19            87      False\n",
      "2023-02-05            87      False\n",
      "2022-08-07            87      False\n",
      "2023-01-08            87      False\n",
      "2023-06-04            87      False\n",
      "2023-05-14            86      False\n",
      "2023-05-07            86      False\n",
      "2022-11-13            86      False\n",
      "2023-02-26            85      False\n",
      "2023-03-12            85      False\n",
      "2022-07-17            85      False\n",
      "2023-04-23            85      False\n",
      "2023-01-22            85      False\n",
      "2022-10-16            85      False\n",
      "2023-02-12            85      False\n",
      "2023-05-28            85      False\n",
      "2022-07-24            84      False\n",
      "2023-04-02            83      False\n",
      "2023-03-19            83      False\n",
      "2022-06-26            83      False\n",
      "2022-10-02            83      False\n",
      "2022-10-23            82      False\n",
      "2023-04-16            82      False\n",
      "2023-01-01            81      False\n",
      "2022-11-27            81      False\n",
      "2022-12-11            81      False\n",
      "2023-03-05            80      False\n",
      "2023-04-09            80      False\n",
      "2023-01-15            79      False\n",
      "2023-06-18            78       True\n",
      "2022-07-03            78      False\n",
      "2022-12-04            75      False\n",
      "2022-11-20            74      False\n",
      "2022-12-18            72      False\n",
      "2022-12-25            64      False\n"
     ]
    }
   ],
   "source": [
    "# Interest over time.\n",
    "trending_topics.build_payload(kw_list=[\"Data Science\"],\n",
    "\t\t\t\t\t\t\tcat=0, timeframe='today 12-m')\n",
    "data_iot = trending_topics.interest_over_time()\n",
    "data_iot = data_iot.sort_values(by=\"Data Science\", ascending = False)\n",
    "print(data_iot)\n"
   ]
  },
  {
   "cell_type": "code",
   "execution_count": 14,
   "metadata": {},
   "outputs": [],
   "source": [
    "data_iot.drop(labels=['isPartial'],axis='columns',inplace=True) "
   ]
  },
  {
   "cell_type": "code",
   "execution_count": 17,
   "metadata": {},
   "outputs": [
    {
     "name": "stdout",
     "output_type": "stream",
     "text": [
      "                          Data Science\n",
      "geoName                               \n",
      "Zimbabwe                           100\n",
      "India                               85\n",
      "Ethiopia                            77\n",
      "Kenya                               74\n",
      "Nigeria                             67\n",
      "...                                ...\n",
      "Guyana                               0\n",
      "Haiti                                0\n",
      "Heard & McDonald Islands             0\n",
      "Honduras                             0\n",
      "Åland Islands                        0\n",
      "\n",
      "[250 rows x 1 columns]\n"
     ]
    }
   ],
   "source": [
    "# Interest by Region\n",
    "data_ior = trending_topics.interest_by_region()\n",
    "data_ior = data_ior.sort_values(by=\"Data Science\",\n",
    "\t\t\t\t\t\tascending = False)\n",
    "print(data_ior)\n"
   ]
  },
  {
   "cell_type": "code",
   "execution_count": 23,
   "metadata": {},
   "outputs": [
    {
     "data": {
      "text/plain": [
       "Data Science    39\n",
       "dtype: int64"
      ]
     },
     "execution_count": 23,
     "metadata": {},
     "output_type": "execute_result"
    }
   ],
   "source": [
    "data_ior.nunique()"
   ]
  },
  {
   "cell_type": "code",
   "execution_count": 26,
   "metadata": {},
   "outputs": [
    {
     "data": {
      "text/plain": [
       "Data Science    0\n",
       "dtype: int64"
      ]
     },
     "execution_count": 26,
     "metadata": {},
     "output_type": "execute_result"
    }
   ],
   "source": [
    "data_ior.dropna(how='all',axis='columns',inplace=True)\n",
    "data_ior.isnull().sum()"
   ]
  },
  {
   "cell_type": "code",
   "execution_count": 27,
   "metadata": {},
   "outputs": [],
   "source": [
    "top_20_ior = data_ior.nlargest(20, 'Data Science')\n"
   ]
  },
  {
   "cell_type": "code",
   "execution_count": 29,
   "metadata": {},
   "outputs": [
    {
     "data": {
      "image/png": "[encoded data removed]",
      "text/plain": [
       "<Figure size 1000x500 with 1 Axes>"
      ]
     },
     "metadata": {},
     "output_type": "display_data"
    }
   ],
   "source": [
    "top_20_ior.reset_index().plot(x='geoName', y='Data Science',\n",
    "\t\t\t\t\t\tfigsize=(10,5), kind=\"bar\")\n",
    "plt.style.use('fivethirtyeight')\n",
    "plt.xlabel(\"Country\")\n",
    "plt.ylabel(\"Number of searches\")\n",
    "plt.show()\n"
   ]
  },
  {
   "cell_type": "code",
   "execution_count": 32,
   "metadata": {},
   "outputs": [
    {
     "data": {
      "text/html": [
       "<div>\n",
       "<style scoped>\n",
       "    .dataframe tbody tr th:only-of-type {\n",
       "        vertical-align: middle;\n",
       "    }\n",
       "\n",
       "    .dataframe tbody tr th {\n",
       "        vertical-align: top;\n",
       "    }\n",
       "\n",
       "    .dataframe thead th {\n",
       "        text-align: right;\n",
       "    }\n",
       "</style>\n",
       "<table border=\"1\" class=\"dataframe\">\n",
       "  <thead>\n",
       "    <tr style=\"text-align: right;\">\n",
       "      <th></th>\n",
       "      <th>title</th>\n",
       "      <th>exploreQuery</th>\n",
       "    </tr>\n",
       "  </thead>\n",
       "  <tbody>\n",
       "    <tr>\n",
       "      <th>0</th>\n",
       "      <td>Coronavirus</td>\n",
       "      <td></td>\n",
       "    </tr>\n",
       "    <tr>\n",
       "      <th>1</th>\n",
       "      <td>Election results</td>\n",
       "      <td></td>\n",
       "    </tr>\n",
       "    <tr>\n",
       "      <th>2</th>\n",
       "      <td>Kobe Bryant</td>\n",
       "      <td></td>\n",
       "    </tr>\n",
       "    <tr>\n",
       "      <th>3</th>\n",
       "      <td>Zoom</td>\n",
       "      <td></td>\n",
       "    </tr>\n",
       "    <tr>\n",
       "      <th>4</th>\n",
       "      <td>IPL</td>\n",
       "      <td></td>\n",
       "    </tr>\n",
       "    <tr>\n",
       "      <th>5</th>\n",
       "      <td>India vs New Zealand</td>\n",
       "      <td></td>\n",
       "    </tr>\n",
       "    <tr>\n",
       "      <th>6</th>\n",
       "      <td>Coronavirus update</td>\n",
       "      <td></td>\n",
       "    </tr>\n",
       "    <tr>\n",
       "      <th>7</th>\n",
       "      <td>Coronavirus symptoms</td>\n",
       "      <td></td>\n",
       "    </tr>\n",
       "    <tr>\n",
       "      <th>8</th>\n",
       "      <td>Joe Biden</td>\n",
       "      <td></td>\n",
       "    </tr>\n",
       "    <tr>\n",
       "      <th>9</th>\n",
       "      <td>Google Classroom</td>\n",
       "      <td></td>\n",
       "    </tr>\n",
       "  </tbody>\n",
       "</table>\n",
       "</div>"
      ],
      "text/plain": [
       "                  title exploreQuery\n",
       "0           Coronavirus             \n",
       "1      Election results             \n",
       "2           Kobe Bryant             \n",
       "3                  Zoom             \n",
       "4                   IPL             \n",
       "5  India vs New Zealand             \n",
       "6    Coronavirus update             \n",
       "7  Coronavirus symptoms             \n",
       "8             Joe Biden             \n",
       "9      Google Classroom             "
      ]
     },
     "execution_count": 32,
     "metadata": {},
     "output_type": "execute_result"
    }
   ],
   "source": [
    "# Top charts.\n",
    "df_trending_20 = trending_topics.top_charts(2020, hl='en-US',\n",
    "\t\t\t\t\t\t\t\ttz=300, geo='GLOBAL')\n",
    "df_trending_20.head(10)\n"
   ]
  },
  {
   "cell_type": "code",
   "execution_count": 33,
   "metadata": {},
   "outputs": [
    {
     "data": {
      "text/html": [
       "<div>\n",
       "<style scoped>\n",
       "    .dataframe tbody tr th:only-of-type {\n",
       "        vertical-align: middle;\n",
       "    }\n",
       "\n",
       "    .dataframe tbody tr th {\n",
       "        vertical-align: top;\n",
       "    }\n",
       "\n",
       "    .dataframe thead th {\n",
       "        text-align: right;\n",
       "    }\n",
       "</style>\n",
       "<table border=\"1\" class=\"dataframe\">\n",
       "  <thead>\n",
       "    <tr style=\"text-align: right;\">\n",
       "      <th></th>\n",
       "      <th>title</th>\n",
       "      <th>exploreQuery</th>\n",
       "    </tr>\n",
       "  </thead>\n",
       "  <tbody>\n",
       "    <tr>\n",
       "      <th>0</th>\n",
       "      <td>Australia vs India</td>\n",
       "      <td></td>\n",
       "    </tr>\n",
       "    <tr>\n",
       "      <th>1</th>\n",
       "      <td>India vs England</td>\n",
       "      <td></td>\n",
       "    </tr>\n",
       "    <tr>\n",
       "      <th>2</th>\n",
       "      <td>IPL</td>\n",
       "      <td></td>\n",
       "    </tr>\n",
       "    <tr>\n",
       "      <th>3</th>\n",
       "      <td>NBA</td>\n",
       "      <td></td>\n",
       "    </tr>\n",
       "    <tr>\n",
       "      <th>4</th>\n",
       "      <td>Euro 2021</td>\n",
       "      <td></td>\n",
       "    </tr>\n",
       "    <tr>\n",
       "      <th>5</th>\n",
       "      <td>Copa América</td>\n",
       "      <td>Copa America</td>\n",
       "    </tr>\n",
       "    <tr>\n",
       "      <th>6</th>\n",
       "      <td>India vs New Zealand</td>\n",
       "      <td></td>\n",
       "    </tr>\n",
       "    <tr>\n",
       "      <th>7</th>\n",
       "      <td>T20 World Cup</td>\n",
       "      <td></td>\n",
       "    </tr>\n",
       "    <tr>\n",
       "      <th>8</th>\n",
       "      <td>Squid Game</td>\n",
       "      <td></td>\n",
       "    </tr>\n",
       "    <tr>\n",
       "      <th>9</th>\n",
       "      <td>DMX</td>\n",
       "      <td></td>\n",
       "    </tr>\n",
       "  </tbody>\n",
       "</table>\n",
       "</div>"
      ],
      "text/plain": [
       "                  title  exploreQuery\n",
       "0    Australia vs India              \n",
       "1      India vs England              \n",
       "2                   IPL              \n",
       "3                   NBA              \n",
       "4             Euro 2021              \n",
       "5          Copa América  Copa America\n",
       "6  India vs New Zealand              \n",
       "7         T20 World Cup              \n",
       "8            Squid Game              \n",
       "9                   DMX              "
      ]
     },
     "execution_count": 33,
     "metadata": {},
     "output_type": "execute_result"
    }
   ],
   "source": [
    "# Top charts.\n",
    "df_trending_21 = trending_topics.top_charts(2021, hl='en-US',\n",
    "\t\t\t\t\t\t\t\ttz=300, geo='GLOBAL')\n",
    "df_trending_21.head(10)\n"
   ]
  },
  {
   "cell_type": "code",
   "execution_count": 34,
   "metadata": {},
   "outputs": [
    {
     "data": {
      "text/html": [
       "<div>\n",
       "<style scoped>\n",
       "    .dataframe tbody tr th:only-of-type {\n",
       "        vertical-align: middle;\n",
       "    }\n",
       "\n",
       "    .dataframe tbody tr th {\n",
       "        vertical-align: top;\n",
       "    }\n",
       "\n",
       "    .dataframe thead th {\n",
       "        text-align: right;\n",
       "    }\n",
       "</style>\n",
       "<table border=\"1\" class=\"dataframe\">\n",
       "  <thead>\n",
       "    <tr style=\"text-align: right;\">\n",
       "      <th></th>\n",
       "      <th>title</th>\n",
       "      <th>exploreQuery</th>\n",
       "    </tr>\n",
       "  </thead>\n",
       "  <tbody>\n",
       "    <tr>\n",
       "      <th>0</th>\n",
       "      <td>Wordle</td>\n",
       "      <td></td>\n",
       "    </tr>\n",
       "    <tr>\n",
       "      <th>1</th>\n",
       "      <td>India vs England</td>\n",
       "      <td></td>\n",
       "    </tr>\n",
       "    <tr>\n",
       "      <th>2</th>\n",
       "      <td>Ukraine</td>\n",
       "      <td></td>\n",
       "    </tr>\n",
       "    <tr>\n",
       "      <th>3</th>\n",
       "      <td>Queen Elizabeth</td>\n",
       "      <td></td>\n",
       "    </tr>\n",
       "    <tr>\n",
       "      <th>4</th>\n",
       "      <td>Ind vs SA</td>\n",
       "      <td></td>\n",
       "    </tr>\n",
       "    <tr>\n",
       "      <th>5</th>\n",
       "      <td>World Cup</td>\n",
       "      <td></td>\n",
       "    </tr>\n",
       "    <tr>\n",
       "      <th>6</th>\n",
       "      <td>India vs West Indies</td>\n",
       "      <td></td>\n",
       "    </tr>\n",
       "    <tr>\n",
       "      <th>7</th>\n",
       "      <td>iPhone 14</td>\n",
       "      <td></td>\n",
       "    </tr>\n",
       "    <tr>\n",
       "      <th>8</th>\n",
       "      <td>Jeffrey Dahmer</td>\n",
       "      <td></td>\n",
       "    </tr>\n",
       "    <tr>\n",
       "      <th>9</th>\n",
       "      <td>Indian Premier League</td>\n",
       "      <td></td>\n",
       "    </tr>\n",
       "  </tbody>\n",
       "</table>\n",
       "</div>"
      ],
      "text/plain": [
       "                   title exploreQuery\n",
       "0                 Wordle             \n",
       "1       India vs England             \n",
       "2                Ukraine             \n",
       "3        Queen Elizabeth             \n",
       "4              Ind vs SA             \n",
       "5              World Cup             \n",
       "6   India vs West Indies             \n",
       "7              iPhone 14             \n",
       "8         Jeffrey Dahmer             \n",
       "9  Indian Premier League             "
      ]
     },
     "execution_count": 34,
     "metadata": {},
     "output_type": "execute_result"
    }
   ],
   "source": [
    "# Top charts.\n",
    "\n",
    "df_trending_22 = trending_topics.top_charts(2022, hl='en-US',\n",
    "\t\t\t\t\t\t\t\ttz=300, geo='GLOBAL')\n",
    "df_trending_22.head(10)\n"
   ]
  },
  {
   "cell_type": "code",
   "execution_count": 62,
   "metadata": {},
   "outputs": [
    {
     "data": {
      "text/plain": [
       "dict_values([{'top':                        query  value\n",
       "0        data science course    100\n",
       "1            what is science     95\n",
       "2       what is data science     93\n",
       "3               what is data     88\n",
       "4        data science python     79\n",
       "5                     python     78\n",
       "6          data science jobs     78\n",
       "7           computer science     68\n",
       "8             data analytics     63\n",
       "9       data science masters     55\n",
       "10            data scientist     48\n",
       "11          machine learning     47\n",
       "12       data science salary     46\n",
       "13      data science courses     46\n",
       "14       master data science     44\n",
       "15                     which     44\n",
       "16          data science job     35\n",
       "17  data science engineering     33\n",
       "18   python for data science     32\n",
       "19   masters in data science     31\n",
       "20             data analysis     30\n",
       "21                statistics     30\n",
       "22              data analyst     28\n",
       "23       data science degree     28\n",
       "24           ms data science     27, 'rising':                                         query  value\n",
       "0   ibm data science professional certificate  35000\n",
       "1                 iit madras bsc data science  26800\n",
       "2              iit madras data science course  13100\n",
       "3                         scaler data science  11650\n",
       "4                                  iit madras   3500\n",
       "5                     iit madras data science   3100\n",
       "6                                google colab   2050\n",
       "7                        towards data science    950\n",
       "8                              great learning    950\n",
       "9             data science course eligibility    850\n",
       "10                        eda in data science    850\n",
       "11                data science course near me    750\n",
       "12                   data science course fees    650\n",
       "13                        upgrad data science    650\n",
       "14                                     upgrad    550\n",
       "15   data science and artificial intelligence    500\n",
       "16                        data science adalah    500\n",
       "17                           eda data science    450\n",
       "18                           bsc data science    450\n",
       "19                       full stack developer    450\n",
       "20                           data science 365    450\n",
       "21                           data science это    400\n",
       "22                       data science roadmap    400\n",
       "23                                         ai    400\n",
       "24                                  w3schools    350}])"
      ]
     },
     "execution_count": 62,
     "metadata": {},
     "output_type": "execute_result"
    }
   ],
   "source": [
    "trending_topics.build_payload(kw_list=['Data Science'])\n",
    "related_queries = trending_topics.related_queries()\n",
    "related_queries.values()\n"
   ]
  },
  {
   "cell_type": "code",
   "execution_count": 10,
   "metadata": {},
   "outputs": [
    {
     "data": {
      "text/html": [
       "<div>\n",
       "<style scoped>\n",
       "    .dataframe tbody tr th:only-of-type {\n",
       "        vertical-align: middle;\n",
       "    }\n",
       "\n",
       "    .dataframe tbody tr th {\n",
       "        vertical-align: top;\n",
       "    }\n",
       "\n",
       "    .dataframe thead th {\n",
       "        text-align: right;\n",
       "    }\n",
       "</style>\n",
       "<table border=\"1\" class=\"dataframe\">\n",
       "  <thead>\n",
       "    <tr style=\"text-align: right;\">\n",
       "      <th></th>\n",
       "      <th>title</th>\n",
       "      <th>type</th>\n",
       "    </tr>\n",
       "  </thead>\n",
       "  <tbody>\n",
       "    <tr>\n",
       "      <th>0</th>\n",
       "      <td>Data science</td>\n",
       "      <td>Field of study</td>\n",
       "    </tr>\n",
       "    <tr>\n",
       "      <th>1</th>\n",
       "      <td>The Soulmate Equation</td>\n",
       "      <td>Book by Christina Lauren</td>\n",
       "    </tr>\n",
       "    <tr>\n",
       "      <th>2</th>\n",
       "      <td>Finding the Mother Tree: Discovering the Wisdo...</td>\n",
       "      <td>Book by Suzanne Simard</td>\n",
       "    </tr>\n",
       "    <tr>\n",
       "      <th>3</th>\n",
       "      <td>Data Science Academy</td>\n",
       "      <td>Topic</td>\n",
       "    </tr>\n",
       "    <tr>\n",
       "      <th>4</th>\n",
       "      <td>Mathematics for Machine Learning</td>\n",
       "      <td>Book by A. Aldo Faisal, Cheng Soon Ong, and Ma...</td>\n",
       "    </tr>\n",
       "  </tbody>\n",
       "</table>\n",
       "</div>"
      ],
      "text/plain": [
       "                                               title  \\\n",
       "0                                       Data science   \n",
       "1                              The Soulmate Equation   \n",
       "2  Finding the Mother Tree: Discovering the Wisdo...   \n",
       "3                               Data Science Academy   \n",
       "4                   Mathematics for Machine Learning   \n",
       "\n",
       "                                                type  \n",
       "0                                     Field of study  \n",
       "1                           Book by Christina Lauren  \n",
       "2                             Book by Suzanne Simard  \n",
       "3                                              Topic  \n",
       "4  Book by A. Aldo Faisal, Cheng Soon Ong, and Ma...  "
      ]
     },
     "execution_count": 10,
     "metadata": {},
     "output_type": "execute_result"
    }
   ],
   "source": [
    "keywords = trending_topics.suggestions(\n",
    "keyword='Data Science')\n",
    "df = pd.DataFrame(keywords)\n",
    "df.drop(columns= 'mid')\n"
   ]
  }
 ],
 "metadata": {
  "kernelspec": {
   "display_name": "Python 3",
   "language": "python",
   "name": "python3"
  },
  "language_info": {
   "codemirror_mode": {
    "name": "ipython",
    "version": 3
   },
   "file_extension": ".py",
   "mimetype": "text/x-python",
   "name": "python",
   "nbconvert_exporter": "python",
   "pygments_lexer": "ipython3",
   "version": "3.11.3"
  },
  "orig_nbformat": 4
 },
 "nbformat": 4,
 "nbformat_minor": 2
}
